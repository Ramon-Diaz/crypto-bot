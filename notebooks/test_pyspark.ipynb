{
 "cells": [
  {
   "cell_type": "code",
   "execution_count": null,
   "id": "073423df-465f-4f7f-abf7-c1ee3eebf46f",
   "metadata": {},
   "outputs": [],
   "source": [
    "from pyspark.sql import SparkSession\n",
    "import os\n",
    "\n",
    "spark = SparkSession.builder \\\n",
    "    .appName(\"SimpleTest\") \\\n",
    "    .master(\"spark://spark-master:7077\") \\\n",
    "    .getOrCreate()\n",
    "\n",
    "spark"
   ]
  },
  {
   "cell_type": "code",
   "execution_count": null,
   "id": "d764a15b-093a-4ebd-8f06-726205b40bfc",
   "metadata": {},
   "outputs": [],
   "source": [
    "# Create a DataFrame with some test data\n",
    "data = [(\"Alice\", 1), (\"Bob\", 2), (\"Charlie\", 3)]\n",
    "columns = [\"Name\", \"Value\"]\n",
    "\n",
    "df = spark.createDataFrame(data, columns)\n",
    "\n",
    "# Show the DataFrame\n",
    "df.show()\n",
    "\n",
    "# Count the number of rows in the DataFrame\n",
    "row_count = df.count()\n",
    "print(f\"Number of rows in the DataFrame: {row_count}\")"
   ]
  },
  {
   "cell_type": "code",
   "execution_count": null,
   "id": "e6f1fcd0-c3f3-4520-91a6-3859d3ab76d6",
   "metadata": {},
   "outputs": [],
   "source": [
    "spark = SparkSession.builder.master(\"spark://spark-master:7077\").getOrCreate()\n",
    "spark.range(1000).show()"
   ]
  },
  {
   "cell_type": "code",
   "execution_count": null,
   "id": "ad65cd61-3677-415a-b8a9-9b8da4f486a3",
   "metadata": {},
   "outputs": [],
   "source": [
    "# JDBC connection properties\n",
    "url = \"jdbc:mysql://mysql:3306/crypto-data\"\n",
    "properties = {\n",
    "    \"user\": os.getenv('MYSQL_USER'),\n",
    "    \"password\": os.getenv('MYSQL_PASSWORD'),\n",
    "    \"driver\": \"com.mysql.cj.jdbc.Driver\"\n",
    "}\n",
    "\n",
    "# Load data from MySQL into a Spark DataFrame\n",
    "df = spark.read.jdbc(url=url, table=\"ENSUSD\", properties=properties)\n",
    "\n",
    "# Perform operations on the DataFrame\n",
    "df.show(10)"
   ]
  },
  {
   "cell_type": "code",
   "execution_count": null,
   "id": "f1b160b7-39a9-411b-b2e3-727153123bad",
   "metadata": {},
   "outputs": [],
   "source": []
  }
 ],
 "metadata": {
  "kernelspec": {
   "display_name": "Python 3 (ipykernel)",
   "language": "python",
   "name": "python3"
  },
  "language_info": {
   "codemirror_mode": {
    "name": "ipython",
    "version": 3
   },
   "file_extension": ".py",
   "mimetype": "text/x-python",
   "name": "python",
   "nbconvert_exporter": "python",
   "pygments_lexer": "ipython3",
   "version": "3.11.6"
  }
 },
 "nbformat": 4,
 "nbformat_minor": 5
}
